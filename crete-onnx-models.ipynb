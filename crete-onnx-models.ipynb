{
 "cells": [
  {
   "cell_type": "code",
   "execution_count": 19,
   "id": "d912996d",
   "metadata": {},
   "outputs": [],
   "source": [
    "import cv2\n",
    "# import matplotlib\n",
    "# import matplotlib.pyplot as plt\n",
    "import numpy as np\n",
    "import glob\n",
    "import torch\n",
    "# import torch.nn as nn \n",
    "import time\n",
    "import math\n",
    "# import torch.nn.functional as F\n",
    "\n",
    "from net import *\n",
    "from utils import *\n",
    "from tracker import *\n",
    "import onnx\n"
   ]
  },
  {
   "cell_type": "code",
   "execution_count": 20,
   "id": "a0678e5b",
   "metadata": {},
   "outputs": [
    {
     "data": {
      "text/plain": [
       "<All keys matched successfully>"
      ]
     },
     "execution_count": 20,
     "metadata": {},
     "output_type": "execute_result"
    }
   ],
   "source": [
    "backbone_m = Inception3_M()\n",
    "backbone_m.update_params()\n",
    "backbone_q = Inception3_Q()\n",
    "backbone_q.update_params()\n",
    "neck_m = AdjustLayer()\n",
    "neck_m.update_params()\n",
    "neck_q = AdjustLayer()\n",
    "neck_q.update_params()\n",
    "head = STMHead()\n",
    "head.update_params()\n",
    "\n",
    "model = STMTrack(backbone_m, backbone_q, neck_m, neck_q, head)\n",
    "# model.update_params()\n",
    "\n",
    "# Convert BatchNorm to SyncBatchNorm \n",
    "# task_model = convert_model(task_model)\n",
    "model_file = \"new-epoch-19.pkl\"\n",
    "\n",
    "# model_file = \"epoch-19.pkl\"\n",
    "model_state_dict = torch.load(model_file,\n",
    "                        map_location=torch.device(\"cpu\"))\n",
    "\n",
    "# model.load_state_dict(model_state_dict['model_state_dict'])\n",
    "model.load_state_dict(model_state_dict)"
   ]
  },
  {
   "cell_type": "code",
   "execution_count": 21,
   "id": "9b8fd36a",
   "metadata": {},
   "outputs": [],
   "source": [
    "net = model.basemodel_q"
   ]
  },
  {
   "cell_type": "code",
   "execution_count": 22,
   "id": "94ffeff5",
   "metadata": {},
   "outputs": [],
   "source": [
    "ONNX_FILE_PATH = \"backbone_q.onnx\""
   ]
  },
  {
   "cell_type": "code",
   "execution_count": 23,
   "id": "2539c00c",
   "metadata": {},
   "outputs": [],
   "source": [
    "input = torch.randn(1,3,289,289).cuda()\n",
    "net.eval()\n",
    "net.cuda()\n",
    "torch.onnx.export(net, input, ONNX_FILE_PATH, input_names=[\"query_img\"], output_names=[\"h_q\"], export_params=True)"
   ]
  },
  {
   "cell_type": "code",
   "execution_count": 24,
   "id": "a76eeb4f",
   "metadata": {},
   "outputs": [],
   "source": [
    "class Memorize(nn.Module):\n",
    "    def __init__(self):\n",
    "        super(Memorize, self).__init__()\n",
    "        self.backbone_m = model.basemodel_m\n",
    "        self.neck_m = model.neck_m\n",
    "    def forward(self, im_crop, fg_bg_label_map):\n",
    "    \n",
    "        fm = self.backbone_m(im_crop, fg_bg_label_map)\n",
    "        fm = self.neck_m(fm)\n",
    "        fm = fm.permute(1, 0, 2, 3).unsqueeze(0).contiguous()  # B, C, T, H, W\n",
    "        return fm"
   ]
  },
  {
   "cell_type": "code",
   "execution_count": 25,
   "id": "5bc3dc6a",
   "metadata": {},
   "outputs": [],
   "source": [
    "net = Memorize()#(model.basemodel_m,model.neck_m)"
   ]
  },
  {
   "cell_type": "code",
   "execution_count": 26,
   "id": "76de01ed",
   "metadata": {},
   "outputs": [],
   "source": [
    "ONNX_FILE_PATH = \"memorize.onnx\"\n",
    "input = torch.randn(1,3,289,289).cuda()\n",
    "fg_bg = torch.randn(1,1,289,289).cuda()\n",
    "net.eval()\n",
    "net.cuda()\n",
    "torch.onnx.export(net, (input,fg_bg), ONNX_FILE_PATH, input_names=[\"img\",\"fg_bg_label_map\"], output_names=[\"fm\"], export_params=True)"
   ]
  },
  {
   "cell_type": "code",
   "execution_count": 27,
   "id": "d7ddf57e",
   "metadata": {},
   "outputs": [],
   "source": [
    "fm = net(input,fg_bg)"
   ]
  },
  {
   "cell_type": "code",
   "execution_count": 28,
   "id": "6ae0d90a",
   "metadata": {},
   "outputs": [
    {
     "data": {
      "text/plain": [
       "torch.Size([1, 512, 1, 25, 25])"
      ]
     },
     "execution_count": 28,
     "metadata": {},
     "output_type": "execute_result"
    }
   ],
   "source": [
    "fm.shape"
   ]
  },
  {
   "cell_type": "code",
   "execution_count": 29,
   "id": "a66702c8",
   "metadata": {},
   "outputs": [
    {
     "data": {
      "text/plain": [
       "320000"
      ]
     },
     "execution_count": 29,
     "metadata": {},
     "output_type": "execute_result"
    }
   ],
   "source": [
    "512*25*25"
   ]
  },
  {
   "cell_type": "code",
   "execution_count": 30,
   "id": "e68820f8",
   "metadata": {},
   "outputs": [],
   "source": [
    "class Head(nn.Module):\n",
    "    def __init__(self,head):\n",
    "        super(Head, self).__init__()\n",
    "        self.head = head\n",
    "    def forward(self,fm,fq):\n",
    "        q_size = 289\n",
    "        y = self.head.memory_read(fm, fq)\n",
    "        cls_score, ctr_score, offsets = self.head.solve(y)\n",
    "        return cls_score, ctr_score, offsets"
   ]
  },
  {
   "cell_type": "code",
   "execution_count": 31,
   "id": "9cf34910",
   "metadata": {},
   "outputs": [],
   "source": [
    "net = Head(model.head)"
   ]
  },
  {
   "cell_type": "code",
   "execution_count": 32,
   "id": "5529205d",
   "metadata": {},
   "outputs": [
    {
     "data": {
      "text/plain": [
       "Head(\n",
       "  (head): STMHead(\n",
       "    (cls_ctr): ConvModule(\n",
       "      (conv1): Conv2d(1024, 256, kernel_size=(3, 3), stride=(1, 1), padding=(1, 1))\n",
       "      (conv_layers): Sequential(\n",
       "        (0): ReLU(inplace=True)\n",
       "        (1): Conv2d(256, 256, kernel_size=(3, 3), stride=(1, 1), padding=(1, 1))\n",
       "        (2): ReLU(inplace=True)\n",
       "        (3): Conv2d(256, 256, kernel_size=(3, 3), stride=(1, 1), padding=(1, 1))\n",
       "        (4): ReLU(inplace=True)\n",
       "        (5): Conv2d(256, 256, kernel_size=(3, 3), stride=(1, 1), padding=(1, 1))\n",
       "        (6): ReLU(inplace=True)\n",
       "        (7): Conv2d(256, 256, kernel_size=(3, 3), stride=(1, 1), padding=(1, 1))\n",
       "        (8): ReLU(inplace=True)\n",
       "        (9): Conv2d(256, 256, kernel_size=(3, 3), stride=(1, 1), padding=(1, 1))\n",
       "        (10): ReLU(inplace=True)\n",
       "        (11): Conv2d(256, 256, kernel_size=(3, 3), stride=(1, 1), padding=(1, 1))\n",
       "      )\n",
       "    )\n",
       "    (reg): ConvModule(\n",
       "      (conv1): Conv2d(1024, 256, kernel_size=(3, 3), stride=(1, 1), padding=(1, 1))\n",
       "      (conv_layers): Sequential(\n",
       "        (0): ReLU(inplace=True)\n",
       "        (1): Conv2d(256, 256, kernel_size=(3, 3), stride=(1, 1), padding=(1, 1))\n",
       "        (2): ReLU(inplace=True)\n",
       "        (3): Conv2d(256, 256, kernel_size=(3, 3), stride=(1, 1), padding=(1, 1))\n",
       "        (4): ReLU(inplace=True)\n",
       "        (5): Conv2d(256, 256, kernel_size=(3, 3), stride=(1, 1), padding=(1, 1))\n",
       "        (6): ReLU(inplace=True)\n",
       "        (7): Conv2d(256, 256, kernel_size=(3, 3), stride=(1, 1), padding=(1, 1))\n",
       "        (8): ReLU(inplace=True)\n",
       "        (9): Conv2d(256, 256, kernel_size=(3, 3), stride=(1, 1), padding=(1, 1))\n",
       "        (10): ReLU(inplace=True)\n",
       "        (11): Conv2d(256, 256, kernel_size=(3, 3), stride=(1, 1), padding=(1, 1))\n",
       "      )\n",
       "    )\n",
       "    (cls_score): conv_bn_relu(\n",
       "      (conv): Conv2d(256, 1, kernel_size=(1, 1), stride=(1, 1))\n",
       "      (bn): BatchNorm2d(1, eps=1e-05, momentum=0.1, affine=True, track_running_stats=True)\n",
       "    )\n",
       "    (ctr_score): conv_bn_relu(\n",
       "      (conv): Conv2d(256, 1, kernel_size=(1, 1), stride=(1, 1))\n",
       "      (bn): BatchNorm2d(1, eps=1e-05, momentum=0.1, affine=True, track_running_stats=True)\n",
       "    )\n",
       "    (reg_offsets): conv_bn_relu(\n",
       "      (conv): Conv2d(256, 4, kernel_size=(1, 1), stride=(1, 1))\n",
       "      (bn): BatchNorm2d(4, eps=1e-05, momentum=0.1, affine=True, track_running_stats=True)\n",
       "    )\n",
       "  )\n",
       ")"
      ]
     },
     "execution_count": 32,
     "metadata": {},
     "output_type": "execute_result"
    }
   ],
   "source": [
    "ONNX_FILE_PATH = \"head.onnx\"\n",
    "fm = torch.randn(1, 512, 6, 25, 25).cuda()\n",
    "fq = torch.randn(1, 512, 25, 25).cuda()\n",
    "net.eval()\n",
    "net.cuda()\n",
    "\n"
   ]
  },
  {
   "cell_type": "code",
   "execution_count": 33,
   "id": "d4c0dee2",
   "metadata": {},
   "outputs": [],
   "source": [
    "cls_score, ctr_score, offsets = net(fm,fq)"
   ]
  },
  {
   "cell_type": "code",
   "execution_count": null,
   "id": "2d18e539",
   "metadata": {},
   "outputs": [],
   "source": []
  },
  {
   "cell_type": "code",
   "execution_count": 34,
   "id": "36c81961",
   "metadata": {},
   "outputs": [],
   "source": [
    "torch.onnx.export(net, (fm,fq), \n",
    "                  ONNX_FILE_PATH, input_names=[\"fm\",\"fq\"], \n",
    "                  output_names=[\"cls_score\", \"ctr_score\", \"offsets\"], export_params=True)"
   ]
  },
  {
   "cell_type": "code",
   "execution_count": 35,
   "id": "ae812e4a",
   "metadata": {},
   "outputs": [
    {
     "data": {
      "text/plain": [
       "torch.Size([1, 1, 25, 25])"
      ]
     },
     "execution_count": 35,
     "metadata": {},
     "output_type": "execute_result"
    }
   ],
   "source": [
    "cls_score.shape"
   ]
  },
  {
   "cell_type": "code",
   "execution_count": 36,
   "id": "ce321d56",
   "metadata": {},
   "outputs": [
    {
     "data": {
      "text/plain": [
       "torch.Size([1, 1, 25, 25])"
      ]
     },
     "execution_count": 36,
     "metadata": {},
     "output_type": "execute_result"
    }
   ],
   "source": [
    "ctr_score.shape"
   ]
  },
  {
   "cell_type": "code",
   "execution_count": 37,
   "id": "a8603800",
   "metadata": {},
   "outputs": [
    {
     "data": {
      "text/plain": [
       "torch.Size([1, 4, 25, 25])"
      ]
     },
     "execution_count": 37,
     "metadata": {},
     "output_type": "execute_result"
    }
   ],
   "source": [
    "offsets.shape"
   ]
  },
  {
   "cell_type": "code",
   "execution_count": 42,
   "id": "bb807c24",
   "metadata": {},
   "outputs": [],
   "source": [
    "net = Head(model.head)\n",
    "fm = torch.ones(1, 512, 6, 25, 25).cuda()\n",
    "fq = torch.ones(1, 512, 25, 25).cuda()"
   ]
  },
  {
   "cell_type": "code",
   "execution_count": 43,
   "id": "ea987176",
   "metadata": {},
   "outputs": [],
   "source": [
    "cls_score, ctr_score, offsets = net(fm,fq)"
   ]
  },
  {
   "cell_type": "code",
   "execution_count": 51,
   "id": "29ed70a5",
   "metadata": {},
   "outputs": [],
   "source": [
    "cls_score_cpp = []\n",
    "with open(\"trt/build/cls_score.txt\") as f:\n",
    "    cls_score_cpp = f.readlines()\n",
    "    \n"
   ]
  },
  {
   "cell_type": "code",
   "execution_count": 54,
   "id": "59f4f3de",
   "metadata": {},
   "outputs": [],
   "source": [
    "cls_score_cpp = [float(c[:-1]) for c in cls_score_cpp]"
   ]
  },
  {
   "cell_type": "code",
   "execution_count": 62,
   "id": "57a11b7b",
   "metadata": {},
   "outputs": [],
   "source": [
    "cls_score_cpp = np.array(cls_score_cpp)"
   ]
  },
  {
   "cell_type": "code",
   "execution_count": 63,
   "id": "e661a7f1",
   "metadata": {},
   "outputs": [],
   "source": [
    "cls_score = cls_score.flatten().cpu().detach().numpy()"
   ]
  },
  {
   "cell_type": "code",
   "execution_count": 69,
   "id": "10cfd07a",
   "metadata": {},
   "outputs": [
    {
     "data": {
      "text/plain": [
       "0.015470562667846632"
      ]
     },
     "execution_count": 69,
     "metadata": {},
     "output_type": "execute_result"
    }
   ],
   "source": [
    "np.abs(cls_score_cpp-cls_score).max()"
   ]
  },
  {
   "cell_type": "code",
   "execution_count": null,
   "id": "944c9e03",
   "metadata": {},
   "outputs": [],
   "source": []
  },
  {
   "cell_type": "code",
   "execution_count": null,
   "id": "31d13b69",
   "metadata": {},
   "outputs": [],
   "source": []
  },
  {
   "cell_type": "code",
   "execution_count": null,
   "id": "e3574276",
   "metadata": {},
   "outputs": [],
   "source": []
  }
 ],
 "metadata": {
  "kernelspec": {
   "display_name": "Python 3 (ipykernel)",
   "language": "python",
   "name": "python3"
  },
  "language_info": {
   "codemirror_mode": {
    "name": "ipython",
    "version": 3
   },
   "file_extension": ".py",
   "mimetype": "text/x-python",
   "name": "python",
   "nbconvert_exporter": "python",
   "pygments_lexer": "ipython3",
   "version": "3.9.7"
  }
 },
 "nbformat": 4,
 "nbformat_minor": 5
}
