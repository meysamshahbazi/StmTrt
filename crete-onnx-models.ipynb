{
 "cells": [
  {
   "cell_type": "code",
   "execution_count": 14,
   "id": "17588691",
   "metadata": {},
   "outputs": [],
   "source": [
    "import cv2\n",
    "# import matplotlib\n",
    "# import matplotlib.pyplot as plt\n",
    "import numpy as np\n",
    "import glob\n",
    "import torch\n",
    "# import torch.nn as nn \n",
    "import time\n",
    "import math\n",
    "# import torch.nn.functional as F\n",
    "\n",
    "from net import *\n",
    "from utils import *\n",
    "from tracker import *\n",
    "import onnx\n"
   ]
  },
  {
   "cell_type": "code",
   "execution_count": 23,
   "id": "d779bc6d",
   "metadata": {},
   "outputs": [
    {
     "data": {
      "text/plain": [
       "<All keys matched successfully>"
      ]
     },
     "execution_count": 23,
     "metadata": {},
     "output_type": "execute_result"
    }
   ],
   "source": [
    "backbone_m = Inception3_M()\n",
    "backbone_m.update_params()\n",
    "backbone_q = Inception3_Q()\n",
    "backbone_q.update_params()\n",
    "neck_m = AdjustLayer()\n",
    "neck_m.update_params()\n",
    "neck_q = AdjustLayer()\n",
    "neck_q.update_params()\n",
    "head = STMHead()\n",
    "head.update_params()\n",
    "\n",
    "model = STMTrack(backbone_m, backbone_q, neck_m, neck_q, head)\n",
    "# model.update_params()\n",
    "\n",
    "# Convert BatchNorm to SyncBatchNorm \n",
    "# task_model = convert_model(task_model)\n",
    "model_file = \"new-epoch-19.pkl\"\n",
    "\n",
    "# model_file = \"epoch-19.pkl\"\n",
    "model_state_dict = torch.load(model_file,\n",
    "                        map_location=torch.device(\"cpu\"))\n",
    "\n",
    "# model.load_state_dict(model_state_dict['model_state_dict'])\n",
    "model.load_state_dict(model_state_dict)"
   ]
  },
  {
   "cell_type": "code",
   "execution_count": 24,
   "id": "19ac311d",
   "metadata": {},
   "outputs": [],
   "source": [
    "net = model.basemodel_q"
   ]
  },
  {
   "cell_type": "code",
   "execution_count": 25,
   "id": "f126aa96",
   "metadata": {},
   "outputs": [],
   "source": [
    "ONNX_FILE_PATH = \"backbone_q.onnx\""
   ]
  },
  {
   "cell_type": "code",
   "execution_count": 28,
   "id": "75691bf2",
   "metadata": {},
   "outputs": [],
   "source": [
    "input = torch.randn(1,3,289,289).cuda()\n",
    "net.eval()\n",
    "net.cuda()\n",
    "torch.onnx.export(net, input, ONNX_FILE_PATH, input_names=[\"query_img\"], output_names=[\"h_q\"], export_params=True)"
   ]
  },
  {
   "cell_type": "code",
   "execution_count": null,
   "id": "cd782e46",
   "metadata": {},
   "outputs": [],
   "source": []
  },
  {
   "cell_type": "code",
   "execution_count": 29,
   "id": "8bc6e34e",
   "metadata": {},
   "outputs": [],
   "source": [
    "y = net(input)"
   ]
  },
  {
   "cell_type": "code",
   "execution_count": null,
   "id": "7a736d4c",
   "metadata": {},
   "outputs": [],
   "source": []
  }
 ],
 "metadata": {
  "kernelspec": {
   "display_name": "Python 3 (ipykernel)",
   "language": "python",
   "name": "python3"
  },
  "language_info": {
   "codemirror_mode": {
    "name": "ipython",
    "version": 3
   },
   "file_extension": ".py",
   "mimetype": "text/x-python",
   "name": "python",
   "nbconvert_exporter": "python",
   "pygments_lexer": "ipython3",
   "version": "3.9.7"
  }
 },
 "nbformat": 4,
 "nbformat_minor": 5
}
