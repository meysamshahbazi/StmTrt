{
 "cells": [
  {
   "cell_type": "code",
   "execution_count": 10,
   "id": "d912996d",
   "metadata": {},
   "outputs": [],
   "source": [
    "import cv2\n",
    "# import matplotlib\n",
    "# import matplotlib.pyplot as plt\n",
    "import numpy as np\n",
    "import glob\n",
    "import torch\n",
    "# import torch.nn as nn \n",
    "import time\n",
    "import math\n",
    "# import torch.nn.functional as F\n",
    "from net import *\n",
    "from utils import *\n",
    "from tracker import *\n",
    "import onnx\n"
   ]
  },
  {
   "cell_type": "code",
   "execution_count": 151,
   "id": "38ed0247",
   "metadata": {},
   "outputs": [
    {
     "data": {
      "text/plain": [
       "144"
      ]
     },
     "execution_count": 151,
     "metadata": {},
     "output_type": "execute_result"
    }
   ],
   "source": [
    "289//2"
   ]
  },
  {
   "cell_type": "code",
   "execution_count": 11,
   "id": "a0678e5b",
   "metadata": {},
   "outputs": [
    {
     "data": {
      "text/plain": [
       "<All keys matched successfully>"
      ]
     },
     "execution_count": 11,
     "metadata": {},
     "output_type": "execute_result"
    }
   ],
   "source": [
    "backbone_m = Inception3_M()\n",
    "backbone_m.update_params()\n",
    "backbone_q = Inception3_Q()\n",
    "backbone_q.update_params()\n",
    "neck_m = AdjustLayer()\n",
    "neck_m.update_params()\n",
    "neck_q = AdjustLayer()\n",
    "neck_q.update_params()\n",
    "head = STMHead()\n",
    "head.update_params()\n",
    "\n",
    "model = STMTrack(backbone_m, backbone_q, neck_m, neck_q, head)\n",
    "# model.update_params()\n",
    "\n",
    "# Convert BatchNorm to SyncBatchNorm \n",
    "# task_model = convert_model(task_model)\n",
    "model_file = \"new-epoch-19.pkl\"\n",
    "\n",
    "# model_file = \"epoch-19.pkl\"\n",
    "model_state_dict = torch.load(model_file,\n",
    "                        map_location=torch.device(\"cpu\"))\n",
    "\n",
    "# model.load_state_dict(model_state_dict['model_state_dict'])\n",
    "model.load_state_dict(model_state_dict)"
   ]
  },
  {
   "cell_type": "code",
   "execution_count": 12,
   "id": "96ecbd60",
   "metadata": {},
   "outputs": [],
   "source": [
    "class Basemodel_Q(nn.Module):\n",
    "    def __init__(self):\n",
    "        super(Basemodel_Q, self).__init__()\n",
    "        self.backbone_q = model.basemodel_q\n",
    "        self.neck_q = model.neck_q\n",
    "    def forward(self, search_img):\n",
    "        fq = self.backbone_q(search_img)\n",
    "        fq = self.neck_q(fq)\n",
    "        return fq"
   ]
  },
  {
   "cell_type": "code",
   "execution_count": 13,
   "id": "9b8fd36a",
   "metadata": {},
   "outputs": [],
   "source": [
    "net = Basemodel_Q()"
   ]
  },
  {
   "cell_type": "code",
   "execution_count": 14,
   "id": "94ffeff5",
   "metadata": {},
   "outputs": [],
   "source": [
    "ONNX_FILE_PATH = \"backbone_q.onnx\""
   ]
  },
  {
   "cell_type": "code",
   "execution_count": 15,
   "id": "2539c00c",
   "metadata": {},
   "outputs": [],
   "source": [
    "input = torch.randn(1,3,289,289).cuda()\n",
    "net.eval()\n",
    "net.cuda()\n",
    "torch.onnx.export(net, input, ONNX_FILE_PATH, input_names=[\"search_img\"], output_names=[\"fq\"], export_params=True)"
   ]
  },
  {
   "cell_type": "code",
   "execution_count": 16,
   "id": "30f2d0cb",
   "metadata": {},
   "outputs": [],
   "source": [
    "y = net(input)"
   ]
  },
  {
   "cell_type": "code",
   "execution_count": 17,
   "id": "025ff223",
   "metadata": {},
   "outputs": [
    {
     "data": {
      "text/plain": [
       "torch.Size([1, 512, 25, 25])"
      ]
     },
     "execution_count": 17,
     "metadata": {},
     "output_type": "execute_result"
    }
   ],
   "source": [
    "y.shape"
   ]
  },
  {
   "cell_type": "code",
   "execution_count": 18,
   "id": "a76eeb4f",
   "metadata": {},
   "outputs": [],
   "source": [
    "class Memorize(nn.Module):\n",
    "    def __init__(self):\n",
    "        super(Memorize, self).__init__()\n",
    "        self.backbone_m = model.basemodel_m\n",
    "        self.neck_m = model.neck_m\n",
    "    def forward(self, im_crop, fg_bg_label_map):\n",
    "        fm = self.backbone_m(im_crop, fg_bg_label_map)\n",
    "        fm = self.neck_m(fm)\n",
    "        fm = fm.permute(1, 0, 2, 3).unsqueeze(0).contiguous()  # B, C, T, H, W\n",
    "        return fm"
   ]
  },
  {
   "cell_type": "code",
   "execution_count": 19,
   "id": "5bc3dc6a",
   "metadata": {},
   "outputs": [],
   "source": [
    "net = Memorize()#(model.basemodel_m,model.neck_m)"
   ]
  },
  {
   "cell_type": "code",
   "execution_count": null,
   "id": "ac6b8ef6",
   "metadata": {},
   "outputs": [],
   "source": []
  },
  {
   "cell_type": "code",
   "execution_count": null,
   "id": "29cc9532",
   "metadata": {},
   "outputs": [],
   "source": []
  },
  {
   "cell_type": "code",
   "execution_count": 20,
   "id": "e155d506",
   "metadata": {},
   "outputs": [],
   "source": [
    "input = torch.ones(1,3,289,289).cuda()\n",
    "fg_bg = torch.ones(1,1,289,289).cuda()\n",
    "net.eval()\n",
    "net.cuda()\n",
    "fm = net(input,fg_bg)"
   ]
  },
  {
   "cell_type": "code",
   "execution_count": 21,
   "id": "25f88016",
   "metadata": {},
   "outputs": [
    {
     "data": {
      "text/plain": [
       "torch.Size([1, 512, 1, 25, 25])"
      ]
     },
     "execution_count": 21,
     "metadata": {},
     "output_type": "execute_result"
    }
   ],
   "source": [
    "fm.shape"
   ]
  },
  {
   "cell_type": "code",
   "execution_count": 22,
   "id": "b6cbb874",
   "metadata": {},
   "outputs": [
    {
     "data": {
      "text/plain": [
       "array([ 0.13268  ,  0.0340902,  0.0776936, ..., -0.924745 , -0.753428 ,\n",
       "       -0.268034 ])"
      ]
     },
     "execution_count": 22,
     "metadata": {},
     "output_type": "execute_result"
    }
   ],
   "source": [
    "with open(\"trt/build/fm.txt\") as file:\n",
    "    fm_cpp = file.readlines()\n",
    "\n",
    "fm_cpp = [float(f[:-1]) for f in fm_cpp]\n",
    "fm_cpp = np.array(fm_cpp)\n",
    "fm_cpp"
   ]
  },
  {
   "cell_type": "code",
   "execution_count": 23,
   "id": "1338a1cd",
   "metadata": {},
   "outputs": [],
   "source": [
    "fm_py = fm.flatten().detach().cpu().numpy()\n",
    "\n"
   ]
  },
  {
   "cell_type": "code",
   "execution_count": 24,
   "id": "5a3f7436",
   "metadata": {},
   "outputs": [
    {
     "data": {
      "text/plain": [
       "5.377369385986328"
      ]
     },
     "execution_count": 24,
     "metadata": {},
     "output_type": "execute_result"
    }
   ],
   "source": [
    "np.abs(fm_py-fm_cpp).max()"
   ]
  },
  {
   "cell_type": "code",
   "execution_count": null,
   "id": "9c5fe52d",
   "metadata": {},
   "outputs": [],
   "source": []
  },
  {
   "cell_type": "code",
   "execution_count": 25,
   "id": "76de01ed",
   "metadata": {},
   "outputs": [],
   "source": [
    "ONNX_FILE_PATH = \"memorize.onnx\"\n",
    "input = torch.randn(1,3,289,289).cuda()\n",
    "fg_bg = torch.randn(1,1,289,289).cuda()\n",
    "net.eval()\n",
    "net.cuda()\n",
    "torch.onnx.export(net, (input,fg_bg), ONNX_FILE_PATH, input_names=[\"img\",\"fg_bg_label_map\"], output_names=[\"fm\"], export_params=True)"
   ]
  },
  {
   "cell_type": "code",
   "execution_count": 26,
   "id": "d7ddf57e",
   "metadata": {},
   "outputs": [],
   "source": [
    "fm = net(input,fg_bg)"
   ]
  },
  {
   "cell_type": "code",
   "execution_count": 27,
   "id": "6ae0d90a",
   "metadata": {},
   "outputs": [
    {
     "data": {
      "text/plain": [
       "torch.Size([1, 512, 1, 25, 25])"
      ]
     },
     "execution_count": 27,
     "metadata": {},
     "output_type": "execute_result"
    }
   ],
   "source": [
    "fm.shape"
   ]
  },
  {
   "cell_type": "code",
   "execution_count": 28,
   "id": "a66702c8",
   "metadata": {},
   "outputs": [],
   "source": [
    "def get_box(xy_ctr, offsets):\n",
    "    offsets = offsets.permute(0, 2, 3, 1)  # (B, H, W, C), C=4\n",
    "    offsets = offsets.reshape(offsets.shape[0], -1, 4)\n",
    "    xy0 = (xy_ctr[:, :, :] - offsets[:, :, :2])\n",
    "    xy1 = (xy_ctr[:, :, :] + offsets[:, :, 2:])\n",
    "    bboxes_pred = torch.cat([xy0, xy1], 2)\n",
    "\n",
    "    return bboxes_pred"
   ]
  },
  {
   "cell_type": "code",
   "execution_count": 29,
   "id": "b8fe0239",
   "metadata": {},
   "outputs": [],
   "source": [
    "hps = dict(\n",
    "        total_stride=8,\n",
    "        score_size=25,\n",
    "        score_offset=-1,\n",
    "        test_lr=0.95,\n",
    "        penalty_k=0.04,\n",
    "        window_influence=0.21,\n",
    "        windowing=\"cosine\",\n",
    "        m_size=289,\n",
    "        q_size=289,\n",
    "        min_w=10,\n",
    "        min_h=10,\n",
    "        phase_memorize=\"memorize\",\n",
    "        phase_track=\"track\",\n",
    "        corr_fea_output=False,\n",
    "        num_segments=4,\n",
    "        confidence_threshold=0.6,\n",
    "        gpu_memory_threshold=-1,\n",
    "        search_area_factor=4.0,\n",
    "        visualization=False )"
   ]
  },
  {
   "cell_type": "code",
   "execution_count": 138,
   "id": "e68820f8",
   "metadata": {},
   "outputs": [],
   "source": [
    "class Head(nn.Module):\n",
    "    def __init__(self,head):\n",
    "        super(Head, self).__init__()\n",
    "        self.head = head\n",
    "        self.total_stride = 8\n",
    "        score_offset = (hps[\"q_size\"] - 1.0 - (hps[\"score_size\"] - 1) * hps[\"total_stride\"]) // 2.0\n",
    "        self.fm_ctr = get_xy_ctr_np(hps[\"score_size\"], score_offset, hps[\"total_stride\"])\n",
    "    def forward(self,fm,fq):\n",
    "#         q_size = 299\n",
    "#         fm = fm.permute(0, 2,1, 3, 4)\n",
    "        y = self.head.memory_read(fm, fq)\n",
    "        cls_score, ctr_score, offsets = self.head.solve(y)\n",
    "        \n",
    "        cls_score = cls_score.permute(0, 2, 3, 1)\n",
    "        cls_score = cls_score.reshape(cls_score.shape[0], -1, 1)\n",
    "\n",
    "        ctr_score = ctr_score.permute(0, 2, 3, 1)\n",
    "        ctr_score = ctr_score.reshape(ctr_score.shape[0], -1, 1)\n",
    "\n",
    "        offsets = torch.exp(self.head.si * offsets + self.head.bi) * self.total_stride\n",
    "\n",
    "        \n",
    "        fm_ctr = self.fm_ctr.to(offsets.device)\n",
    "        bbox = get_box(fm_ctr, offsets)\n",
    "        fcos_cls_score_final = cls_score\n",
    "        fcos_ctr_score_final = ctr_score\n",
    "        fcos_bbox_final = bbox\n",
    "\n",
    "        \n",
    "        fcos_cls_prob_final = torch.sigmoid(fcos_cls_score_final)\n",
    "        fcos_ctr_prob_final = torch.sigmoid(fcos_ctr_score_final)\n",
    "        # apply centerness correction\n",
    "        fcos_score_final = fcos_cls_prob_final * fcos_ctr_prob_final\n",
    "        \n",
    "        return fcos_score_final, fcos_bbox_final, fcos_cls_prob_final, fcos_ctr_prob_final\n"
   ]
  },
  {
   "cell_type": "code",
   "execution_count": 139,
   "id": "9cf34910",
   "metadata": {},
   "outputs": [],
   "source": [
    "net = Head(model.head)\n",
    "net.eval()\n",
    "net.cuda()\n",
    "ONNX_FILE_PATH = \"head.onnx\"\n",
    "fm = torch.randn(1, 512, 6, 25, 25).cuda()\n",
    "fq = torch.randn(1, 512, 25, 25).cuda()\n"
   ]
  },
  {
   "cell_type": "code",
   "execution_count": 140,
   "id": "d5e6dc76",
   "metadata": {},
   "outputs": [],
   "source": [
    "torch.onnx.export(net, (fm,fq), \n",
    "                  ONNX_FILE_PATH, input_names=[\"fm\",\"fq\"], \n",
    "                  output_names=[\"fcos_score_final\", \"fcos_bbox_final\",\n",
    "                                \"fcos_cls_prob_final\",\"fcos_ctr_prob_final\"]\n",
    "                  , export_params=True)"
   ]
  },
  {
   "cell_type": "code",
   "execution_count": 141,
   "id": "c76cf3ad",
   "metadata": {},
   "outputs": [],
   "source": [
    "fm = torch.ones(1, 512, 6, 25, 25).cuda()\n",
    "fq = torch.ones(1, 512, 25, 25).cuda()"
   ]
  },
  {
   "cell_type": "code",
   "execution_count": 136,
   "id": "00c09290",
   "metadata": {},
   "outputs": [],
   "source": [
    "fcos_score_final, fcos_bbox_final, fcos_cls_prob_final, fcos_ctr_prob_final = net(fm,fq)"
   ]
  },
  {
   "cell_type": "code",
   "execution_count": 137,
   "id": "09cefea4",
   "metadata": {},
   "outputs": [
    {
     "data": {
      "text/plain": [
       "torch.Size([1, 625, 1])"
      ]
     },
     "execution_count": 137,
     "metadata": {},
     "output_type": "execute_result"
    }
   ],
   "source": [
    "fcos_score_final.shape"
   ]
  },
  {
   "cell_type": "code",
   "execution_count": 119,
   "id": "e646d11c",
   "metadata": {},
   "outputs": [],
   "source": [
    "\n",
    "\n"
   ]
  },
  {
   "cell_type": "code",
   "execution_count": 86,
   "id": "ff9da0c9",
   "metadata": {},
   "outputs": [],
   "source": [
    "score, box, cls, ctr = net(fm,fq)"
   ]
  },
  {
   "cell_type": "code",
   "execution_count": 87,
   "id": "6699d206",
   "metadata": {},
   "outputs": [],
   "source": [
    "box = tensor_to_numpy(box[0]) # 1,625,4 -> 625,4\n",
    "score = tensor_to_numpy(score[0])[:, 0]\n",
    "cls = tensor_to_numpy(cls[0])\n",
    "ctr = tensor_to_numpy(ctr[0])"
   ]
  },
  {
   "cell_type": "code",
   "execution_count": 88,
   "id": "d2503e73",
   "metadata": {},
   "outputs": [],
   "source": [
    "box_wh = xyxy2cxywh(box)"
   ]
  },
  {
   "cell_type": "code",
   "execution_count": 89,
   "id": "2d13abb5",
   "metadata": {},
   "outputs": [],
   "source": [
    "score_size = 25\n",
    "window = np.outer(np.hanning(score_size), np.hanning(score_size))\n",
    "# window = window.reshape(-1)"
   ]
  },
  {
   "cell_type": "code",
   "execution_count": 90,
   "id": "804dca3d",
   "metadata": {},
   "outputs": [
    {
     "data": {
      "text/plain": [
       "(25, 25)"
      ]
     },
     "execution_count": 90,
     "metadata": {},
     "output_type": "execute_result"
    }
   ],
   "source": [
    "window.shape"
   ]
  },
  {
   "cell_type": "code",
   "execution_count": null,
   "id": "c3097873",
   "metadata": {},
   "outputs": [],
   "source": []
  },
  {
   "cell_type": "code",
   "execution_count": 91,
   "id": "adfb1ece",
   "metadata": {},
   "outputs": [],
   "source": [
    "xyxy = np.array([[1,2,3,5]])"
   ]
  },
  {
   "cell_type": "code",
   "execution_count": 92,
   "id": "5344fd8b",
   "metadata": {},
   "outputs": [
    {
     "data": {
      "text/plain": [
       "array([[2. , 3.5, 3. , 4. ]], dtype=float32)"
      ]
     },
     "execution_count": 92,
     "metadata": {},
     "output_type": "execute_result"
    }
   ],
   "source": [
    "xyxy2cxywh(xyxy)"
   ]
  },
  {
   "cell_type": "code",
   "execution_count": 93,
   "id": "74b46242",
   "metadata": {},
   "outputs": [],
   "source": [
    "def _postprocess_score(score, box_wh, target_sz, scale_x, im_x_crop):\n",
    "        r\"\"\"\n",
    "        Perform SiameseRPN-based tracker's post-processing of score\n",
    "        :param score: (HW, ), score prediction\n",
    "        :param box_wh: (HW, 4), cxywh, bbox prediction (format changed)\n",
    "        :param target_sz: previous state (w & h)\n",
    "        :param scale_x:\n",
    "        :return:\n",
    "            best_pscore_id: index of chosen candidate along axis HW\n",
    "            pscore: (HW, ), penalized score\n",
    "            penalty: (HW, ), penalty due to scale/ratio change\n",
    "        \"\"\"\n",
    "        def change(r):\n",
    "            return np.maximum(r, 1. / r)\n",
    "\n",
    "        def sz(w, h):\n",
    "            pad = (w + h) * 0.5\n",
    "            sz2 = (w + pad) * (h + pad)\n",
    "            return np.sqrt(sz2)\n",
    "\n",
    "        def sz_wh(wh):\n",
    "            pad = (wh[0] + wh[1]) * 0.5\n",
    "            sz2 = (wh[0] + pad) * (wh[1] + pad)\n",
    "            return np.sqrt(sz2)\n",
    "\n",
    "        # size penalty\n",
    "        penalty_k = self.default_hyper_params['penalty_k']\n",
    "        target_sz_in_crop = target_sz * scale_x\n",
    "        s_c = change(\n",
    "            sz(box_wh[:, 2], box_wh[:, 3]) /\n",
    "            (sz_wh(target_sz_in_crop)))  # scale penalty\n",
    "        r_c = change((target_sz_in_crop[0] / target_sz_in_crop[1]) /\n",
    "                     (box_wh[:, 2] / box_wh[:, 3]))  # ratio penalty\n",
    "        penalty = np.exp(-(r_c * s_c - 1) * penalty_k)\n",
    "        pscore = penalty * score\n",
    "        # if self._hp_visualization:\n",
    "        #     vsm.visualize(pscore, self._hp_score_size, im_x_crop, self._state['cur_frame_idx'], 'pscore_0')\n",
    "\n",
    "        # ipdb.set_trace()\n",
    "        # cos window (motion model)\n",
    "        window_influence = self.default_hyper_params['window_influence']\n",
    "        pscore = pscore * (\n",
    "            1 - window_influence) + self._state['window'] * window_influence\n",
    "        best_pscore_id = np.argmax(pscore)\n",
    "        # if self._hp_visualization:\n",
    "        #     vsm.visualize(pscore, self._hp_score_size, im_x_crop, self._state['cur_frame_idx'], 'pscore_1')\n",
    "\n",
    "        return best_pscore_id, pscore, penalty\n"
   ]
  },
  {
   "cell_type": "code",
   "execution_count": 94,
   "id": "556566aa",
   "metadata": {},
   "outputs": [
    {
     "ename": "NameError",
     "evalue": "name 'target_sz' is not defined",
     "output_type": "error",
     "traceback": [
      "\u001b[0;31m---------------------------------------------------------------------------\u001b[0m",
      "\u001b[0;31mNameError\u001b[0m                                 Traceback (most recent call last)",
      "\u001b[0;32m/tmp/ipykernel_4247/3080547477.py\u001b[0m in \u001b[0;36m<module>\u001b[0;34m\u001b[0m\n\u001b[1;32m      1\u001b[0m best_pscore_id, pscore, penalty = _postprocess_score(\n\u001b[0;32m----> 2\u001b[0;31m              score, box_wh, target_sz, scale_q, im_q_crop)\n\u001b[0m",
      "\u001b[0;31mNameError\u001b[0m: name 'target_sz' is not defined"
     ]
    }
   ],
   "source": [
    "best_pscore_id, pscore, penalty = _postprocess_score(\n",
    "             score, box_wh, target_sz, scale_q, im_q_crop)"
   ]
  },
  {
   "cell_type": "code",
   "execution_count": 95,
   "id": "c9c9c5a8",
   "metadata": {},
   "outputs": [],
   "source": [
    "# torch.onnx.export(net, (fm,fq), \n",
    "#                   ONNX_FILE_PATH, input_names=[\"fm\",\"fq\"], \n",
    "#                   output_names=[\"cls_score\", \"ctr_score\", \"offsets\"], export_params=True)"
   ]
  },
  {
   "cell_type": "code",
   "execution_count": 96,
   "id": "78655aab",
   "metadata": {},
   "outputs": [
    {
     "ename": "NameError",
     "evalue": "name 'cls_score' is not defined",
     "output_type": "error",
     "traceback": [
      "\u001b[0;31m---------------------------------------------------------------------------\u001b[0m",
      "\u001b[0;31mNameError\u001b[0m                                 Traceback (most recent call last)",
      "\u001b[0;32m/tmp/ipykernel_4247/2087954500.py\u001b[0m in \u001b[0;36m<module>\u001b[0;34m\u001b[0m\n\u001b[0;32m----> 1\u001b[0;31m \u001b[0mcls_score\u001b[0m\u001b[0;34m.\u001b[0m\u001b[0mshape\u001b[0m\u001b[0;34m\u001b[0m\u001b[0;34m\u001b[0m\u001b[0m\n\u001b[0m",
      "\u001b[0;31mNameError\u001b[0m: name 'cls_score' is not defined"
     ]
    }
   ],
   "source": [
    "cls_score.shape"
   ]
  },
  {
   "cell_type": "code",
   "execution_count": null,
   "id": "c8981799",
   "metadata": {},
   "outputs": [],
   "source": [
    "ctr_score.shape"
   ]
  },
  {
   "cell_type": "code",
   "execution_count": null,
   "id": "40980893",
   "metadata": {},
   "outputs": [],
   "source": [
    "offsets.shape"
   ]
  },
  {
   "cell_type": "code",
   "execution_count": 101,
   "id": "be3af67b",
   "metadata": {},
   "outputs": [],
   "source": []
  },
  {
   "cell_type": "code",
   "execution_count": 143,
   "id": "4e13b8c7",
   "metadata": {},
   "outputs": [],
   "source": [
    "fcos_score_final, fcos_bbox_final, fcos_cls_prob_final, fcos_ctr_prob_final = net(fm,fq)"
   ]
  },
  {
   "cell_type": "code",
   "execution_count": 144,
   "id": "3f341b92",
   "metadata": {},
   "outputs": [],
   "source": [
    "fcos_score_final_cpp = []\n",
    "with open(\"test_trt/build/fcos_score_final.txt\") as f:\n",
    "    fcos_score_final_cpp = f.readlines()\n",
    "    \n"
   ]
  },
  {
   "cell_type": "code",
   "execution_count": 145,
   "id": "a61ff001",
   "metadata": {},
   "outputs": [],
   "source": [
    "fcos_score_final_cpp = [float(c[:-1]) for c in fcos_score_final_cpp]"
   ]
  },
  {
   "cell_type": "code",
   "execution_count": 146,
   "id": "30857d0c",
   "metadata": {},
   "outputs": [],
   "source": [
    "fcos_score_final_cpp = np.array(fcos_score_final_cpp)"
   ]
  },
  {
   "cell_type": "code",
   "execution_count": 147,
   "id": "3b5ad32d",
   "metadata": {},
   "outputs": [],
   "source": [
    "cls_score_py = fcos_score_final.flatten().cpu().detach().numpy()"
   ]
  },
  {
   "cell_type": "code",
   "execution_count": 148,
   "id": "8164999f",
   "metadata": {},
   "outputs": [
    {
     "data": {
      "text/plain": [
       "0.0003914305047035202"
      ]
     },
     "execution_count": 148,
     "metadata": {},
     "output_type": "execute_result"
    }
   ],
   "source": [
    "np.abs(fcos_score_final_cpp-cls_score_py).max()"
   ]
  },
  {
   "cell_type": "code",
   "execution_count": 149,
   "id": "1fe83035",
   "metadata": {},
   "outputs": [
    {
     "data": {
      "text/plain": [
       "array([0.0166244 , 0.0145289 , 0.014197  , 0.0118082 , 0.0100687 ,\n",
       "       0.00911935, 0.00892668, 0.00893894, 0.00893894, 0.00893894,\n",
       "       0.00893894, 0.00893894, 0.00893894, 0.00893894, 0.00893894,\n",
       "       0.00893894, 0.00893894, 0.00893894, 0.00953159, 0.0118436 ,\n",
       "       0.0141428 , 0.0134514 , 0.015893  , 0.0151154 , 0.0240744 ,\n",
       "       0.00693321, 0.00442553, 0.00441077, 0.00350943, 0.00311705,\n",
       "       0.00271675, 0.0025655 , 0.00255595, 0.00255595, 0.00255595,\n",
       "       0.00255595, 0.00255595, 0.00255595, 0.00255595, 0.00255595,\n",
       "       0.00255595, 0.00255595, 0.00255595, 0.00280545, 0.00362407,\n",
       "       0.00450457, 0.00427143, 0.00593123, 0.00673415, 0.012616  ,\n",
       "       0.0137366 , 0.0137018 , 0.0153999 , 0.0131583 , 0.0128968 ,\n",
       "       0.0125322 , 0.0122018 , 0.0121503 , 0.0121503 , 0.0121503 ,\n",
       "       0.0121503 , 0.0121503 , 0.0121503 , 0.0121503 , 0.0121503 ,\n",
       "       0.0121503 , 0.0121503 , 0.0121503 , 0.0134871 , 0.0176424 ,\n",
       "       0.0204254 , 0.0165065 , 0.017029  , 0.0164425 , 0.0197484 ,\n",
       "       0.0111664 , 0.0116302 , 0.0130114 , 0.0104963 , 0.0102868 ,\n",
       "       0.00995607, 0.00953516, 0.00947402, 0.00947402, 0.00947402,\n",
       "       0.00947402, 0.00947402, 0.00947402, 0.00947402, 0.00947402,\n",
       "       0.00947402, 0.00947402, 0.00947402, 0.0110277 , 0.0157393 ,\n",
       "       0.0200656 , 0.0154657 , 0.0158052 , 0.016454  , 0.0193067 ,\n",
       "       0.010722  , 0.0114158 , 0.0132555 , 0.010556  , 0.010596  ,\n",
       "       0.0102381 , 0.0100235 , 0.00998657, 0.00998657, 0.00998657,\n",
       "       0.00998657, 0.00998657, 0.00998657, 0.00998657, 0.00998657,\n",
       "       0.00998657, 0.00998657, 0.00998657, 0.0116623 , 0.0170853 ,\n",
       "       0.0217789 , 0.0153224 , 0.0158463 , 0.0168746 , 0.0207134 ,\n",
       "       0.0113222 , 0.0125649 , 0.0152838 , 0.0121794 , 0.0128948 ,\n",
       "       0.012974  , 0.012839  , 0.0129352 , 0.0129352 , 0.0129352 ,\n",
       "       0.0129352 , 0.0129352 , 0.0129352 , 0.0129352 , 0.0129352 ,\n",
       "       0.0129352 , 0.0129352 , 0.0129352 , 0.0153403 , 0.0226066 ,\n",
       "       0.029671  , 0.020181  , 0.020493  , 0.0213952 , 0.0266417 ,\n",
       "       0.0115938 , 0.0130739 , 0.0160981 , 0.0128533 , 0.0139551 ,\n",
       "       0.0146442 , 0.0143431 , 0.014426  , 0.014426  , 0.014426  ,\n",
       "       0.014426  , 0.014426  , 0.014426  , 0.014426  , 0.014426  ,\n",
       "       0.014426  , 0.014426  , 0.014426  , 0.017099  , 0.0250858 ,\n",
       "       0.0332344 , 0.0228443 , 0.0234233 , 0.0247003 , 0.0302063 ,\n",
       "       0.0117111 , 0.0132925 , 0.0164829 , 0.0131545 , 0.0144288 ,\n",
       "       0.0153958 , 0.0149674 , 0.0149627 , 0.0149627 , 0.0149627 ,\n",
       "       0.0149627 , 0.0149627 , 0.0149627 , 0.0149627 , 0.0149627 ,\n",
       "       0.0149627 , 0.0149627 , 0.0149627 , 0.0177579 , 0.0259226 ,\n",
       "       0.0344638 , 0.0234048 , 0.0237469 , 0.0249894 , 0.030367  ,\n",
       "       0.0117111 , 0.0132925 , 0.0164829 , 0.0131545 , 0.0144288 ,\n",
       "       0.0153958 , 0.0149674 , 0.0149627 , 0.0149627 , 0.0149627 ,\n",
       "       0.0149627 , 0.0149627 , 0.0149627 , 0.0149627 , 0.0149627 ,\n",
       "       0.0149627 , 0.0149627 , 0.0149627 , 0.0177579 , 0.0259226 ,\n",
       "       0.0344638 , 0.0234048 , 0.0237469 , 0.0249894 , 0.030367  ,\n",
       "       0.0117111 , 0.0132925 , 0.0164829 , 0.0131545 , 0.0144288 ,\n",
       "       0.0153958 , 0.0149674 , 0.0149627 , 0.0149627 , 0.0149627 ,\n",
       "       0.0149627 , 0.0149627 , 0.0149627 , 0.0149627 , 0.0149627 ,\n",
       "       0.0149627 , 0.0149627 , 0.0149627 , 0.0177579 , 0.0259226 ,\n",
       "       0.0344638 , 0.0234048 , 0.0237469 , 0.0249894 , 0.030367  ,\n",
       "       0.0117111 , 0.0132925 , 0.0164829 , 0.0131545 , 0.0144288 ,\n",
       "       0.0153958 , 0.0149674 , 0.0149627 , 0.0149627 , 0.0149627 ,\n",
       "       0.0149627 , 0.0149627 , 0.0149627 , 0.0149627 , 0.0149627 ,\n",
       "       0.0149627 , 0.0149627 , 0.0149627 , 0.0177579 , 0.0259226 ,\n",
       "       0.0344638 , 0.0234048 , 0.0237469 , 0.0249894 , 0.030367  ,\n",
       "       0.0117111 , 0.0132925 , 0.0164829 , 0.0131545 , 0.0144288 ,\n",
       "       0.0153958 , 0.0149674 , 0.0149627 , 0.0149627 , 0.0149627 ,\n",
       "       0.0149627 , 0.0149627 , 0.0149627 , 0.0149627 , 0.0149627 ,\n",
       "       0.0149627 , 0.0149627 , 0.0149627 , 0.0177579 , 0.0259226 ,\n",
       "       0.0344638 , 0.0234048 , 0.0237469 , 0.0249894 , 0.030367  ,\n",
       "       0.0117111 , 0.0132925 , 0.0164829 , 0.0131545 , 0.0144288 ,\n",
       "       0.0153958 , 0.0149674 , 0.0149627 , 0.0149627 , 0.0149627 ,\n",
       "       0.0149627 , 0.0149627 , 0.0149627 , 0.0149627 , 0.0149627 ,\n",
       "       0.0149627 , 0.0149627 , 0.0149627 , 0.0177579 , 0.0259226 ,\n",
       "       0.0344638 , 0.0234048 , 0.0237469 , 0.0249894 , 0.030367  ,\n",
       "       0.0117111 , 0.0132925 , 0.0164829 , 0.0131545 , 0.0144288 ,\n",
       "       0.0153958 , 0.0149674 , 0.0149627 , 0.0149627 , 0.0149627 ,\n",
       "       0.0149627 , 0.0149627 , 0.0149627 , 0.0149627 , 0.0149627 ,\n",
       "       0.0149627 , 0.0149627 , 0.0149627 , 0.0177579 , 0.0259226 ,\n",
       "       0.0344638 , 0.0234048 , 0.0237469 , 0.0249894 , 0.030367  ,\n",
       "       0.0117111 , 0.0132925 , 0.0164829 , 0.0131545 , 0.0144288 ,\n",
       "       0.0153958 , 0.0149674 , 0.0149627 , 0.0149627 , 0.0149627 ,\n",
       "       0.0149627 , 0.0149627 , 0.0149627 , 0.0149627 , 0.0149627 ,\n",
       "       0.0149627 , 0.0149627 , 0.0149627 , 0.0177579 , 0.0259226 ,\n",
       "       0.0344638 , 0.0234048 , 0.0237469 , 0.0249894 , 0.030367  ,\n",
       "       0.0117111 , 0.0132925 , 0.0164829 , 0.0131545 , 0.0144288 ,\n",
       "       0.0153958 , 0.0149674 , 0.0149627 , 0.0149627 , 0.0149627 ,\n",
       "       0.0149627 , 0.0149627 , 0.0149627 , 0.0149627 , 0.0149627 ,\n",
       "       0.0149627 , 0.0149627 , 0.0149627 , 0.0177579 , 0.0259226 ,\n",
       "       0.0344638 , 0.0234048 , 0.0237469 , 0.0249894 , 0.030367  ,\n",
       "       0.0117111 , 0.0132925 , 0.0164829 , 0.0131545 , 0.0144288 ,\n",
       "       0.0153958 , 0.0149674 , 0.0149627 , 0.0149627 , 0.0149627 ,\n",
       "       0.0149627 , 0.0149627 , 0.0149627 , 0.0149627 , 0.0149627 ,\n",
       "       0.0149627 , 0.0149627 , 0.0149627 , 0.0177579 , 0.0259226 ,\n",
       "       0.0344638 , 0.0234048 , 0.0237469 , 0.0249894 , 0.030367  ,\n",
       "       0.0117111 , 0.0132925 , 0.0164829 , 0.0131545 , 0.0144288 ,\n",
       "       0.0153958 , 0.0149674 , 0.0149627 , 0.0149627 , 0.0149627 ,\n",
       "       0.0149627 , 0.0149627 , 0.0149627 , 0.0149627 , 0.0149627 ,\n",
       "       0.0149627 , 0.0149627 , 0.0149627 , 0.0177579 , 0.0259226 ,\n",
       "       0.0344638 , 0.0234048 , 0.0237469 , 0.0249894 , 0.030367  ,\n",
       "       0.0138038 , 0.0164983 , 0.0205034 , 0.0170385 , 0.0184005 ,\n",
       "       0.019438  , 0.0189823 , 0.019141  , 0.019141  , 0.019141  ,\n",
       "       0.019141  , 0.019141  , 0.019141  , 0.019141  , 0.019141  ,\n",
       "       0.019141  , 0.019141  , 0.019141  , 0.0230006 , 0.033483  ,\n",
       "       0.0424153 , 0.028176  , 0.0273908 , 0.0282639 , 0.0333124 ,\n",
       "       0.0188273 , 0.0242373 , 0.0306015 , 0.0261636 , 0.0282545 ,\n",
       "       0.0299954 , 0.0291741 , 0.0296331 , 0.0296331 , 0.0296331 ,\n",
       "       0.0296331 , 0.0296331 , 0.0296331 , 0.0296331 , 0.0296331 ,\n",
       "       0.0296331 , 0.0296331 , 0.0296331 , 0.0348048 , 0.0471721 ,\n",
       "       0.0543933 , 0.0342637 , 0.0316729 , 0.0314484 , 0.0361377 ,\n",
       "       0.0214145 , 0.0281242 , 0.0367997 , 0.0320554 , 0.0344778 ,\n",
       "       0.0386758 , 0.0371252 , 0.0376058 , 0.0376058 , 0.0376058 ,\n",
       "       0.0376058 , 0.0376058 , 0.0376058 , 0.0376058 , 0.0376058 ,\n",
       "       0.0376058 , 0.0376058 , 0.0376058 , 0.0432702 , 0.0563149 ,\n",
       "       0.062763  , 0.0398894 , 0.0359582 , 0.0369309 , 0.0409472 ,\n",
       "       0.022193  , 0.0281943 , 0.0357262 , 0.0306859 , 0.0328672 ,\n",
       "       0.0388887 , 0.0372415 , 0.037208  , 0.037208  , 0.037208  ,\n",
       "       0.037208  , 0.037208  , 0.037208  , 0.037208  , 0.037208  ,\n",
       "       0.037208  , 0.037208  , 0.037208  , 0.0416903 , 0.0515381 ,\n",
       "       0.0560102 , 0.037965  , 0.0364911 , 0.0424205 , 0.0485976 ,\n",
       "       0.0360182 , 0.0458141 , 0.053453  , 0.0457781 , 0.0493459 ,\n",
       "       0.0562787 , 0.0553798 , 0.0560937 , 0.0560937 , 0.0560937 ,\n",
       "       0.0560937 , 0.0560937 , 0.0560937 , 0.0560937 , 0.0560937 ,\n",
       "       0.0560937 , 0.0560937 , 0.0560937 , 0.060767  , 0.0708992 ,\n",
       "       0.0710201 , 0.0483384 , 0.0407603 , 0.0460723 , 0.0524563 ,\n",
       "       0.0363832 , 0.0424973 , 0.0524044 , 0.0448621 , 0.048     ,\n",
       "       0.0550008 , 0.0542129 , 0.0549395 , 0.0549395 , 0.0549395 ,\n",
       "       0.0549395 , 0.0549395 , 0.0549395 , 0.0549395 , 0.0549395 ,\n",
       "       0.0549395 , 0.0549395 , 0.0549395 , 0.0580538 , 0.0643364 ,\n",
       "       0.0641474 , 0.0469359 , 0.0424743 , 0.0455639 , 0.0519991 ,\n",
       "       0.042908  , 0.0390392 , 0.0535072 , 0.0471741 , 0.0506378 ,\n",
       "       0.0605802 , 0.0605045 , 0.0612345 , 0.0612345 , 0.0612345 ,\n",
       "       0.0612345 , 0.0612345 , 0.0612345 , 0.0612345 , 0.0612345 ,\n",
       "       0.0612345 , 0.0612345 , 0.0612345 , 0.0629119 , 0.0664247 ,\n",
       "       0.0662337 , 0.0535336 , 0.0514724 , 0.0505201 , 0.0586205 ])"
      ]
     },
     "execution_count": 149,
     "metadata": {},
     "output_type": "execute_result"
    }
   ],
   "source": [
    "fcos_score_final_cpp"
   ]
  },
  {
   "cell_type": "code",
   "execution_count": 150,
   "id": "d77fcecb",
   "metadata": {},
   "outputs": [
    {
     "data": {
      "text/plain": [
       "array([0.01669263, 0.01453012, 0.01421366, 0.0117822 , 0.01007301,\n",
       "       0.00911173, 0.00888837, 0.00887569, 0.00887569, 0.00887569,\n",
       "       0.00887569, 0.00887569, 0.00887569, 0.00887569, 0.00887569,\n",
       "       0.00887569, 0.00887569, 0.00887569, 0.00955623, 0.01179801,\n",
       "       0.01410357, 0.01343781, 0.01595707, 0.01515085, 0.02406023,\n",
       "       0.00685216, 0.00438366, 0.0043722 , 0.00350442, 0.0030963 ,\n",
       "       0.00271182, 0.00256876, 0.00255117, 0.00255117, 0.00255117,\n",
       "       0.00255117, 0.00255117, 0.00255117, 0.00255117, 0.00255117,\n",
       "       0.00255117, 0.00255117, 0.00255117, 0.0028011 , 0.00363157,\n",
       "       0.00448919, 0.00422604, 0.00592476, 0.00671855, 0.0126078 ,\n",
       "       0.01374432, 0.01374402, 0.0154052 , 0.0131534 , 0.0129269 ,\n",
       "       0.01255038, 0.01222945, 0.01213448, 0.01213448, 0.01213448,\n",
       "       0.01213448, 0.01213448, 0.01213448, 0.01213448, 0.01213448,\n",
       "       0.01213448, 0.01213448, 0.01213448, 0.01353282, 0.01760681,\n",
       "       0.02037367, 0.01647942, 0.0170403 , 0.01643598, 0.01975723,\n",
       "       0.0111584 , 0.01159027, 0.01298691, 0.01051906, 0.01032423,\n",
       "       0.00993269, 0.00959684, 0.00950289, 0.00950289, 0.00950289,\n",
       "       0.00950289, 0.00950289, 0.00950289, 0.00950289, 0.00950289,\n",
       "       0.00950289, 0.00950289, 0.00950289, 0.01102791, 0.01576601,\n",
       "       0.02001338, 0.01551688, 0.01585144, 0.01650221, 0.01930516,\n",
       "       0.01071129, 0.01142172, 0.01324644, 0.01058107, 0.0106527 ,\n",
       "       0.01029982, 0.01007779, 0.0100412 , 0.0100412 , 0.0100412 ,\n",
       "       0.0100412 , 0.0100412 , 0.0100412 , 0.0100412 , 0.0100412 ,\n",
       "       0.0100412 , 0.0100412 , 0.0100412 , 0.01173245, 0.0171822 ,\n",
       "       0.02179804, 0.01539432, 0.01589018, 0.01687311, 0.02079672,\n",
       "       0.01131419, 0.01257916, 0.01533056, 0.01220038, 0.01292979,\n",
       "       0.01303601, 0.01293143, 0.01297865, 0.01297865, 0.01297865,\n",
       "       0.01297865, 0.01297865, 0.01297865, 0.01297865, 0.01297865,\n",
       "       0.01297865, 0.01297865, 0.01297865, 0.01544214, 0.02277423,\n",
       "       0.0296692 , 0.02027544, 0.02052498, 0.02157049, 0.02673454,\n",
       "       0.01153141, 0.013038  , 0.01614202, 0.01290721, 0.01399603,\n",
       "       0.01479644, 0.01447616, 0.01451741, 0.01451741, 0.01451741,\n",
       "       0.01451741, 0.01451741, 0.01451741, 0.01451741, 0.01451741,\n",
       "       0.01451741, 0.01451741, 0.01451741, 0.01725069, 0.02535087,\n",
       "       0.03334976, 0.02294263, 0.02347142, 0.02486463, 0.03038264,\n",
       "       0.01166177, 0.0133054 , 0.01650301, 0.01320123, 0.01444163,\n",
       "       0.01553419, 0.01510413, 0.01510548, 0.01510548, 0.01510548,\n",
       "       0.01510548, 0.01510548, 0.01510548, 0.01510548, 0.01510548,\n",
       "       0.01510548, 0.01510548, 0.01510548, 0.01793362, 0.02614504,\n",
       "       0.03451071, 0.02354226, 0.02386654, 0.02513706, 0.03058478,\n",
       "       0.01166177, 0.0133054 , 0.01650301, 0.01320123, 0.01444163,\n",
       "       0.01553419, 0.01510413, 0.01510548, 0.01510548, 0.01510548,\n",
       "       0.01510548, 0.01510548, 0.01510548, 0.01510548, 0.01510548,\n",
       "       0.01510548, 0.01510548, 0.01510548, 0.01793362, 0.02614504,\n",
       "       0.03451071, 0.02354226, 0.02386654, 0.02513706, 0.03058478,\n",
       "       0.01166177, 0.0133054 , 0.01650301, 0.01320123, 0.01444163,\n",
       "       0.01553419, 0.01510413, 0.01510548, 0.01510548, 0.01510548,\n",
       "       0.01510548, 0.01510548, 0.01510548, 0.01510548, 0.01510548,\n",
       "       0.01510548, 0.01510548, 0.01510548, 0.01793362, 0.02614504,\n",
       "       0.03451071, 0.02354226, 0.02386654, 0.02513706, 0.03058478,\n",
       "       0.01166177, 0.0133054 , 0.01650301, 0.01320123, 0.01444163,\n",
       "       0.01553419, 0.01510413, 0.01510548, 0.01510548, 0.01510548,\n",
       "       0.01510548, 0.01510548, 0.01510548, 0.01510548, 0.01510548,\n",
       "       0.01510548, 0.01510548, 0.01510548, 0.01793362, 0.02614504,\n",
       "       0.03451071, 0.02354226, 0.02386654, 0.02513706, 0.03058478,\n",
       "       0.01166177, 0.0133054 , 0.01650301, 0.01320123, 0.01444163,\n",
       "       0.01553419, 0.01510413, 0.01510548, 0.01510548, 0.01510548,\n",
       "       0.01510548, 0.01510548, 0.01510548, 0.01510548, 0.01510548,\n",
       "       0.01510548, 0.01510548, 0.01510548, 0.01793362, 0.02614504,\n",
       "       0.03451071, 0.02354226, 0.02386654, 0.02513706, 0.03058478,\n",
       "       0.01166177, 0.0133054 , 0.01650301, 0.01320123, 0.01444163,\n",
       "       0.01553419, 0.01510413, 0.01510548, 0.01510548, 0.01510548,\n",
       "       0.01510548, 0.01510548, 0.01510548, 0.01510548, 0.01510548,\n",
       "       0.01510548, 0.01510548, 0.01510548, 0.01793362, 0.02614504,\n",
       "       0.03451071, 0.02354226, 0.02386654, 0.02513706, 0.03058478,\n",
       "       0.01166177, 0.0133054 , 0.01650301, 0.01320123, 0.01444163,\n",
       "       0.01553419, 0.01510413, 0.01510548, 0.01510548, 0.01510548,\n",
       "       0.01510548, 0.01510548, 0.01510548, 0.01510548, 0.01510548,\n",
       "       0.01510548, 0.01510548, 0.01510548, 0.01793362, 0.02614504,\n",
       "       0.03451071, 0.02354226, 0.02386654, 0.02513706, 0.03058478,\n",
       "       0.01166177, 0.0133054 , 0.01650301, 0.01320123, 0.01444163,\n",
       "       0.01553419, 0.01510413, 0.01510548, 0.01510548, 0.01510548,\n",
       "       0.01510548, 0.01510548, 0.01510548, 0.01510548, 0.01510548,\n",
       "       0.01510548, 0.01510548, 0.01510548, 0.01793362, 0.02614504,\n",
       "       0.03451071, 0.02354226, 0.02386654, 0.02513706, 0.03058478,\n",
       "       0.01166177, 0.0133054 , 0.01650301, 0.01320123, 0.01444163,\n",
       "       0.01553419, 0.01510413, 0.01510548, 0.01510548, 0.01510548,\n",
       "       0.01510548, 0.01510548, 0.01510548, 0.01510548, 0.01510548,\n",
       "       0.01510548, 0.01510548, 0.01510548, 0.01793362, 0.02614504,\n",
       "       0.03451071, 0.02354226, 0.02386654, 0.02513706, 0.03058478,\n",
       "       0.01166177, 0.0133054 , 0.01650301, 0.01320123, 0.01444163,\n",
       "       0.01553419, 0.01510413, 0.01510548, 0.01510548, 0.01510548,\n",
       "       0.01510548, 0.01510548, 0.01510548, 0.01510548, 0.01510548,\n",
       "       0.01510548, 0.01510548, 0.01510548, 0.01793362, 0.02614504,\n",
       "       0.03451071, 0.02354226, 0.02386654, 0.02513706, 0.03058478,\n",
       "       0.01166177, 0.0133054 , 0.01650301, 0.01320123, 0.01444163,\n",
       "       0.01553419, 0.01510413, 0.01510548, 0.01510548, 0.01510548,\n",
       "       0.01510548, 0.01510548, 0.01510548, 0.01510548, 0.01510548,\n",
       "       0.01510548, 0.01510548, 0.01510548, 0.01793362, 0.02614504,\n",
       "       0.03451071, 0.02354226, 0.02386654, 0.02513706, 0.03058478,\n",
       "       0.01374461, 0.01648917, 0.02063729, 0.0170468 , 0.01849293,\n",
       "       0.01959502, 0.01909524, 0.01929627, 0.01929627, 0.01929627,\n",
       "       0.01929627, 0.01929627, 0.01929627, 0.01929627, 0.01929627,\n",
       "       0.01929627, 0.01929627, 0.01929627, 0.02313756, 0.0336601 ,\n",
       "       0.04253649, 0.02830345, 0.02756024, 0.02845985, 0.03350553,\n",
       "       0.01874773, 0.02422164, 0.03069015, 0.02617455, 0.02831588,\n",
       "       0.03029516, 0.02945275, 0.02987492, 0.02987492, 0.02987492,\n",
       "       0.02987492, 0.02987492, 0.02987492, 0.02987492, 0.02987492,\n",
       "       0.02987492, 0.02987492, 0.02987492, 0.03518996, 0.04756353,\n",
       "       0.05473846, 0.03449822, 0.03185379, 0.03160557, 0.03631502,\n",
       "       0.02140716, 0.02810145, 0.03673874, 0.03199223, 0.03445324,\n",
       "       0.03874311, 0.03730775, 0.03762981, 0.03762981, 0.03762981,\n",
       "       0.03762981, 0.03762981, 0.03762981, 0.03762981, 0.03762981,\n",
       "       0.03762981, 0.03762981, 0.03762981, 0.04333135, 0.05654821,\n",
       "       0.06288682, 0.0398821 , 0.03607275, 0.03709368, 0.04120915,\n",
       "       0.02222667, 0.02815879, 0.03582497, 0.03075625, 0.03304999,\n",
       "       0.03924391, 0.03759589, 0.03757745, 0.03757745, 0.03757745,\n",
       "       0.03757745, 0.03757745, 0.03757745, 0.03757745, 0.03757745,\n",
       "       0.03757745, 0.03757745, 0.03757745, 0.04205605, 0.05190051,\n",
       "       0.05633893, 0.03810243, 0.03661796, 0.04262654, 0.04882707,\n",
       "       0.03597332, 0.04576975, 0.05339853, 0.04572183, 0.04934642,\n",
       "       0.05630615, 0.05546131, 0.05613765, 0.05613765, 0.05613765,\n",
       "       0.05613765, 0.05613765, 0.05613765, 0.05613765, 0.05613765,\n",
       "       0.05613765, 0.05613765, 0.05613765, 0.06080301, 0.07096739,\n",
       "       0.07135648, 0.04855101, 0.04090471, 0.04631359, 0.05281213,\n",
       "       0.03634109, 0.04247198, 0.05246687, 0.04492074, 0.04814958,\n",
       "       0.05518269, 0.05446799, 0.05512239, 0.05512239, 0.05512239,\n",
       "       0.05512239, 0.05512239, 0.05512239, 0.05512239, 0.05512239,\n",
       "       0.05512239, 0.05512239, 0.05512239, 0.05828626, 0.06454867,\n",
       "       0.06438169, 0.0471976 , 0.04268854, 0.04583145, 0.05235253,\n",
       "       0.04291148, 0.03903897, 0.05350383, 0.04722951, 0.0507481 ,\n",
       "       0.06078119, 0.06076357, 0.06141379, 0.06141379, 0.06141379,\n",
       "       0.06141379, 0.06141379, 0.06141379, 0.06141379, 0.06141379,\n",
       "       0.06141379, 0.06141379, 0.06141379, 0.06307887, 0.06662907,\n",
       "       0.06652112, 0.05385812, 0.0517802 , 0.05082689, 0.05884492],\n",
       "      dtype=float32)"
      ]
     },
     "execution_count": 150,
     "metadata": {},
     "output_type": "execute_result"
    }
   ],
   "source": [
    "cls_score_py"
   ]
  },
  {
   "cell_type": "code",
   "execution_count": null,
   "id": "aecb924f",
   "metadata": {},
   "outputs": [],
   "source": []
  },
  {
   "cell_type": "code",
   "execution_count": null,
   "id": "7972daab",
   "metadata": {},
   "outputs": [],
   "source": []
  },
  {
   "cell_type": "code",
   "execution_count": null,
   "id": "90e8d3c6",
   "metadata": {},
   "outputs": [],
   "source": []
  }
 ],
 "metadata": {
  "kernelspec": {
   "display_name": "Python 3 (ipykernel)",
   "language": "python",
   "name": "python3"
  },
  "language_info": {
   "codemirror_mode": {
    "name": "ipython",
    "version": 3
   },
   "file_extension": ".py",
   "mimetype": "text/x-python",
   "name": "python",
   "nbconvert_exporter": "python",
   "pygments_lexer": "ipython3",
   "version": "3.9.7"
  }
 },
 "nbformat": 4,
 "nbformat_minor": 5
}
